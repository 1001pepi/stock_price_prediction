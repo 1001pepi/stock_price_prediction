{
  "nbformat": 4,
  "nbformat_minor": 0,
  "metadata": {
    "colab": {
      "provenance": [],
      "collapsed_sections": [],
      "toc_visible": true
    },
    "kernelspec": {
      "name": "python3",
      "display_name": "Python 3"
    },
    "language_info": {
      "name": "python"
    }
  },
  "cells": [
    {
      "cell_type": "markdown",
      "source": [
        "# Stock Price Prediction"
      ],
      "metadata": {
        "id": "FFruapcul4Lq"
      }
    },
    {
      "cell_type": "markdown",
      "source": [
        "In trading, valuable information is to know how the stock price will vary shortly. Here we are just interested in knowing if we have to buy stock or not. Supposing we get the information on the stock price evolution of the next day, if the price will increase, we'll buy stock, allowing us to make money. Otherwise, we will not purchase any stock to avoid losing money. We will build a Machine Learning model to predict if the stock price will increase the following day or not.\n",
        "\n",
        "According to the goal set above, we want to maximize our `true positives` (cases where the model predicts that the price will go up and it acutally goes up). Therefore, we will use precision as our performance measure, which is `true positives / (false positives + true positives)`.\n",
        "\n",
        "For this study case, we are going to build a model to predict the trend of the Microsoft stock price."
      ],
      "metadata": {
        "id": "7UzhSTTyr0sx"
      }
    },
    {
      "cell_type": "markdown",
      "source": [
        "## Method"
      ],
      "metadata": {
        "id": "rC0Z_f58s8Cd"
      }
    },
    {
      "cell_type": "markdown",
      "source": [
        "The realization of this project will be done through the following steps:\n",
        "\n",
        "\n",
        "*   Downloading historical stock price from Yahoo finance\n",
        "*   Data exploration\n",
        "*   Data preprocessing\n",
        "*   Test Machine Learning models\n",
        "*   Setup a backtesting engine\n",
        "*   Improve the accuracy of the model\n",
        "\n",
        "At the end, we will add some perspectives to improve the model, and make it reliable for a real world use.\n",
        "\n"
      ],
      "metadata": {
        "id": "CsOmAndIs_Vu"
      }
    },
    {
      "cell_type": "markdown",
      "source": [
        "## Import useful librairies"
      ],
      "metadata": {
        "id": "Lw0JBuFTuwzw"
      }
    },
    {
      "cell_type": "code",
      "source": [
        "from sklearn.ensemble import RandomForestClassifier\n",
        "from sklearn.metrics import precision_score\n",
        "import pandas as pd"
      ],
      "metadata": {
        "id": "jlPWpUPZ4_E8"
      },
      "execution_count": 2,
      "outputs": []
    },
    {
      "cell_type": "markdown",
      "source": [
        "## Downloading historical stock price from Yahoo finance"
      ],
      "metadata": {
        "id": "Hj3-MgGK48N1"
      }
    },
    {
      "cell_type": "markdown",
      "source": [
        "We first need to install the `Yahoo finance` package that we will use to get the stock price data."
      ],
      "metadata": {
        "id": "DCHO9Mmcu29d"
      }
    },
    {
      "cell_type": "code",
      "source": [
        "!pip install yfinance"
      ],
      "metadata": {
        "colab": {
          "base_uri": "https://localhost:8080/"
        },
        "id": "USfA8mwSvfc4",
        "outputId": "25a5ec32-320b-4d19-efa6-f1e27abd3ec1"
      },
      "execution_count": 3,
      "outputs": [
        {
          "output_type": "stream",
          "name": "stdout",
          "text": [
            "Looking in indexes: https://pypi.org/simple, https://us-python.pkg.dev/colab-wheels/public/simple/\n",
            "Collecting yfinance\n",
            "  Downloading yfinance-0.1.74-py2.py3-none-any.whl (27 kB)\n",
            "Requirement already satisfied: lxml>=4.5.1 in /usr/local/lib/python3.7/dist-packages (from yfinance) (4.9.1)\n",
            "Requirement already satisfied: numpy>=1.15 in /usr/local/lib/python3.7/dist-packages (from yfinance) (1.21.6)\n",
            "Collecting requests>=2.26\n",
            "  Downloading requests-2.28.1-py3-none-any.whl (62 kB)\n",
            "\u001b[K     |████████████████████████████████| 62 kB 996 kB/s \n",
            "\u001b[?25hRequirement already satisfied: pandas>=0.24.0 in /usr/local/lib/python3.7/dist-packages (from yfinance) (1.3.5)\n",
            "Requirement already satisfied: multitasking>=0.0.7 in /usr/local/lib/python3.7/dist-packages (from yfinance) (0.0.11)\n",
            "Requirement already satisfied: python-dateutil>=2.7.3 in /usr/local/lib/python3.7/dist-packages (from pandas>=0.24.0->yfinance) (2.8.2)\n",
            "Requirement already satisfied: pytz>=2017.3 in /usr/local/lib/python3.7/dist-packages (from pandas>=0.24.0->yfinance) (2022.2.1)\n",
            "Requirement already satisfied: six>=1.5 in /usr/local/lib/python3.7/dist-packages (from python-dateutil>=2.7.3->pandas>=0.24.0->yfinance) (1.15.0)\n",
            "Requirement already satisfied: idna<4,>=2.5 in /usr/local/lib/python3.7/dist-packages (from requests>=2.26->yfinance) (2.10)\n",
            "Requirement already satisfied: certifi>=2017.4.17 in /usr/local/lib/python3.7/dist-packages (from requests>=2.26->yfinance) (2022.6.15)\n",
            "Requirement already satisfied: charset-normalizer<3,>=2 in /usr/local/lib/python3.7/dist-packages (from requests>=2.26->yfinance) (2.1.1)\n",
            "Requirement already satisfied: urllib3<1.27,>=1.21.1 in /usr/local/lib/python3.7/dist-packages (from requests>=2.26->yfinance) (1.24.3)\n",
            "Installing collected packages: requests, yfinance\n",
            "  Attempting uninstall: requests\n",
            "    Found existing installation: requests 2.23.0\n",
            "    Uninstalling requests-2.23.0:\n",
            "      Successfully uninstalled requests-2.23.0\n",
            "Successfully installed requests-2.28.1 yfinance-0.1.74\n"
          ]
        }
      ]
    },
    {
      "cell_type": "code",
      "execution_count": 4,
      "metadata": {
        "id": "xtvTxPLhOYXU"
      },
      "outputs": [],
      "source": [
        "import yfinance as yf\n",
        "\n",
        "#download microsoft stock price data\n",
        "msft = yf.Ticker(\"MSFT\")\n",
        "msft = msft.history(period=\"max\")"
      ]
    },
    {
      "cell_type": "markdown",
      "source": [
        "The execution of the previous code results in fetching the requested data and storing it in `msft` as a pandas dataframe. "
      ],
      "metadata": {
        "id": "CEDSD2iVvf-U"
      }
    },
    {
      "cell_type": "markdown",
      "source": [
        "## Data exploration"
      ],
      "metadata": {
        "id": "edzB-EzJv112"
      }
    },
    {
      "cell_type": "markdown",
      "source": [
        "In this section we are going to explore the collected data to understand how it looks like and what information is available."
      ],
      "metadata": {
        "id": "iyDzF3YjvNCs"
      }
    },
    {
      "cell_type": "code",
      "source": [
        "#size of the data\n",
        "msft.shape"
      ],
      "metadata": {
        "colab": {
          "base_uri": "https://localhost:8080/"
        },
        "id": "ud4nNz5SwLLD",
        "outputId": "416cbc66-4425-4a83-ef2c-1e727df632f3"
      },
      "execution_count": 5,
      "outputs": [
        {
          "output_type": "execute_result",
          "data": {
            "text/plain": [
              "(9209, 7)"
            ]
          },
          "metadata": {},
          "execution_count": 5
        }
      ]
    },
    {
      "cell_type": "code",
      "source": [
        "msft.head(5)"
      ],
      "metadata": {
        "colab": {
          "base_uri": "https://localhost:8080/",
          "height": 235
        },
        "id": "SP1DzAAKvcmo",
        "outputId": "affb0cb0-b7be-4675-b381-1b1278602e63"
      },
      "execution_count": 6,
      "outputs": [
        {
          "output_type": "execute_result",
          "data": {
            "text/plain": [
              "                Open      High       Low     Close      Volume  Dividends  \\\n",
              "Date                                                                        \n",
              "1986-03-13  0.055536  0.063703  0.055536  0.060980  1031788800        0.0   \n",
              "1986-03-14  0.060980  0.064247  0.060980  0.063158   308160000        0.0   \n",
              "1986-03-17  0.063158  0.064792  0.063158  0.064247   133171200        0.0   \n",
              "1986-03-18  0.064247  0.064792  0.062069  0.062613    67766400        0.0   \n",
              "1986-03-19  0.062613  0.063158  0.060980  0.061524    47894400        0.0   \n",
              "\n",
              "            Stock Splits  \n",
              "Date                      \n",
              "1986-03-13           0.0  \n",
              "1986-03-14           0.0  \n",
              "1986-03-17           0.0  \n",
              "1986-03-18           0.0  \n",
              "1986-03-19           0.0  "
            ],
            "text/html": [
              "\n",
              "  <div id=\"df-4efb25c3-cde8-4efe-b21f-3ea3fb0671aa\">\n",
              "    <div class=\"colab-df-container\">\n",
              "      <div>\n",
              "<style scoped>\n",
              "    .dataframe tbody tr th:only-of-type {\n",
              "        vertical-align: middle;\n",
              "    }\n",
              "\n",
              "    .dataframe tbody tr th {\n",
              "        vertical-align: top;\n",
              "    }\n",
              "\n",
              "    .dataframe thead th {\n",
              "        text-align: right;\n",
              "    }\n",
              "</style>\n",
              "<table border=\"1\" class=\"dataframe\">\n",
              "  <thead>\n",
              "    <tr style=\"text-align: right;\">\n",
              "      <th></th>\n",
              "      <th>Open</th>\n",
              "      <th>High</th>\n",
              "      <th>Low</th>\n",
              "      <th>Close</th>\n",
              "      <th>Volume</th>\n",
              "      <th>Dividends</th>\n",
              "      <th>Stock Splits</th>\n",
              "    </tr>\n",
              "    <tr>\n",
              "      <th>Date</th>\n",
              "      <th></th>\n",
              "      <th></th>\n",
              "      <th></th>\n",
              "      <th></th>\n",
              "      <th></th>\n",
              "      <th></th>\n",
              "      <th></th>\n",
              "    </tr>\n",
              "  </thead>\n",
              "  <tbody>\n",
              "    <tr>\n",
              "      <th>1986-03-13</th>\n",
              "      <td>0.055536</td>\n",
              "      <td>0.063703</td>\n",
              "      <td>0.055536</td>\n",
              "      <td>0.060980</td>\n",
              "      <td>1031788800</td>\n",
              "      <td>0.0</td>\n",
              "      <td>0.0</td>\n",
              "    </tr>\n",
              "    <tr>\n",
              "      <th>1986-03-14</th>\n",
              "      <td>0.060980</td>\n",
              "      <td>0.064247</td>\n",
              "      <td>0.060980</td>\n",
              "      <td>0.063158</td>\n",
              "      <td>308160000</td>\n",
              "      <td>0.0</td>\n",
              "      <td>0.0</td>\n",
              "    </tr>\n",
              "    <tr>\n",
              "      <th>1986-03-17</th>\n",
              "      <td>0.063158</td>\n",
              "      <td>0.064792</td>\n",
              "      <td>0.063158</td>\n",
              "      <td>0.064247</td>\n",
              "      <td>133171200</td>\n",
              "      <td>0.0</td>\n",
              "      <td>0.0</td>\n",
              "    </tr>\n",
              "    <tr>\n",
              "      <th>1986-03-18</th>\n",
              "      <td>0.064247</td>\n",
              "      <td>0.064792</td>\n",
              "      <td>0.062069</td>\n",
              "      <td>0.062613</td>\n",
              "      <td>67766400</td>\n",
              "      <td>0.0</td>\n",
              "      <td>0.0</td>\n",
              "    </tr>\n",
              "    <tr>\n",
              "      <th>1986-03-19</th>\n",
              "      <td>0.062613</td>\n",
              "      <td>0.063158</td>\n",
              "      <td>0.060980</td>\n",
              "      <td>0.061524</td>\n",
              "      <td>47894400</td>\n",
              "      <td>0.0</td>\n",
              "      <td>0.0</td>\n",
              "    </tr>\n",
              "  </tbody>\n",
              "</table>\n",
              "</div>\n",
              "      <button class=\"colab-df-convert\" onclick=\"convertToInteractive('df-4efb25c3-cde8-4efe-b21f-3ea3fb0671aa')\"\n",
              "              title=\"Convert this dataframe to an interactive table.\"\n",
              "              style=\"display:none;\">\n",
              "        \n",
              "  <svg xmlns=\"http://www.w3.org/2000/svg\" height=\"24px\"viewBox=\"0 0 24 24\"\n",
              "       width=\"24px\">\n",
              "    <path d=\"M0 0h24v24H0V0z\" fill=\"none\"/>\n",
              "    <path d=\"M18.56 5.44l.94 2.06.94-2.06 2.06-.94-2.06-.94-.94-2.06-.94 2.06-2.06.94zm-11 1L8.5 8.5l.94-2.06 2.06-.94-2.06-.94L8.5 2.5l-.94 2.06-2.06.94zm10 10l.94 2.06.94-2.06 2.06-.94-2.06-.94-.94-2.06-.94 2.06-2.06.94z\"/><path d=\"M17.41 7.96l-1.37-1.37c-.4-.4-.92-.59-1.43-.59-.52 0-1.04.2-1.43.59L10.3 9.45l-7.72 7.72c-.78.78-.78 2.05 0 2.83L4 21.41c.39.39.9.59 1.41.59.51 0 1.02-.2 1.41-.59l7.78-7.78 2.81-2.81c.8-.78.8-2.07 0-2.86zM5.41 20L4 18.59l7.72-7.72 1.47 1.35L5.41 20z\"/>\n",
              "  </svg>\n",
              "      </button>\n",
              "      \n",
              "  <style>\n",
              "    .colab-df-container {\n",
              "      display:flex;\n",
              "      flex-wrap:wrap;\n",
              "      gap: 12px;\n",
              "    }\n",
              "\n",
              "    .colab-df-convert {\n",
              "      background-color: #E8F0FE;\n",
              "      border: none;\n",
              "      border-radius: 50%;\n",
              "      cursor: pointer;\n",
              "      display: none;\n",
              "      fill: #1967D2;\n",
              "      height: 32px;\n",
              "      padding: 0 0 0 0;\n",
              "      width: 32px;\n",
              "    }\n",
              "\n",
              "    .colab-df-convert:hover {\n",
              "      background-color: #E2EBFA;\n",
              "      box-shadow: 0px 1px 2px rgba(60, 64, 67, 0.3), 0px 1px 3px 1px rgba(60, 64, 67, 0.15);\n",
              "      fill: #174EA6;\n",
              "    }\n",
              "\n",
              "    [theme=dark] .colab-df-convert {\n",
              "      background-color: #3B4455;\n",
              "      fill: #D2E3FC;\n",
              "    }\n",
              "\n",
              "    [theme=dark] .colab-df-convert:hover {\n",
              "      background-color: #434B5C;\n",
              "      box-shadow: 0px 1px 3px 1px rgba(0, 0, 0, 0.15);\n",
              "      filter: drop-shadow(0px 1px 2px rgba(0, 0, 0, 0.3));\n",
              "      fill: #FFFFFF;\n",
              "    }\n",
              "  </style>\n",
              "\n",
              "      <script>\n",
              "        const buttonEl =\n",
              "          document.querySelector('#df-4efb25c3-cde8-4efe-b21f-3ea3fb0671aa button.colab-df-convert');\n",
              "        buttonEl.style.display =\n",
              "          google.colab.kernel.accessAllowed ? 'block' : 'none';\n",
              "\n",
              "        async function convertToInteractive(key) {\n",
              "          const element = document.querySelector('#df-4efb25c3-cde8-4efe-b21f-3ea3fb0671aa');\n",
              "          const dataTable =\n",
              "            await google.colab.kernel.invokeFunction('convertToInteractive',\n",
              "                                                     [key], {});\n",
              "          if (!dataTable) return;\n",
              "\n",
              "          const docLinkHtml = 'Like what you see? Visit the ' +\n",
              "            '<a target=\"_blank\" href=https://colab.research.google.com/notebooks/data_table.ipynb>data table notebook</a>'\n",
              "            + ' to learn more about interactive tables.';\n",
              "          element.innerHTML = '';\n",
              "          dataTable['output_type'] = 'display_data';\n",
              "          await google.colab.output.renderOutput(dataTable, element);\n",
              "          const docLink = document.createElement('div');\n",
              "          docLink.innerHTML = docLinkHtml;\n",
              "          element.appendChild(docLink);\n",
              "        }\n",
              "      </script>\n",
              "    </div>\n",
              "  </div>\n",
              "  "
            ]
          },
          "metadata": {},
          "execution_count": 6
        }
      ]
    },
    {
      "cell_type": "code",
      "source": [
        "msft.tail()"
      ],
      "metadata": {
        "colab": {
          "base_uri": "https://localhost:8080/",
          "height": 235
        },
        "id": "wAUaMchQv5fC",
        "outputId": "225b291d-1842-4cdb-de2c-e300a1ca0032"
      },
      "execution_count": 7,
      "outputs": [
        {
          "output_type": "execute_result",
          "data": {
            "text/plain": [
              "                  Open        High         Low       Close    Volume  \\\n",
              "Date                                                                   \n",
              "2022-09-19  242.470001  245.139999  240.850006  244.520004  26826900   \n",
              "2022-09-20  242.070007  243.509995  239.639999  242.449997  26660300   \n",
              "2022-09-21  244.270004  247.660004  238.899994  238.949997  28625600   \n",
              "2022-09-22  237.869995  243.860001  237.570007  240.979996  31061200   \n",
              "2022-09-23  239.539993  241.130005  235.199997  237.919998  34137200   \n",
              "\n",
              "            Dividends  Stock Splits  \n",
              "Date                                 \n",
              "2022-09-19        0.0           0.0  \n",
              "2022-09-20        0.0           0.0  \n",
              "2022-09-21        0.0           0.0  \n",
              "2022-09-22        0.0           0.0  \n",
              "2022-09-23        0.0           0.0  "
            ],
            "text/html": [
              "\n",
              "  <div id=\"df-f9f3b32e-e135-49b6-ad4b-48461b20aa70\">\n",
              "    <div class=\"colab-df-container\">\n",
              "      <div>\n",
              "<style scoped>\n",
              "    .dataframe tbody tr th:only-of-type {\n",
              "        vertical-align: middle;\n",
              "    }\n",
              "\n",
              "    .dataframe tbody tr th {\n",
              "        vertical-align: top;\n",
              "    }\n",
              "\n",
              "    .dataframe thead th {\n",
              "        text-align: right;\n",
              "    }\n",
              "</style>\n",
              "<table border=\"1\" class=\"dataframe\">\n",
              "  <thead>\n",
              "    <tr style=\"text-align: right;\">\n",
              "      <th></th>\n",
              "      <th>Open</th>\n",
              "      <th>High</th>\n",
              "      <th>Low</th>\n",
              "      <th>Close</th>\n",
              "      <th>Volume</th>\n",
              "      <th>Dividends</th>\n",
              "      <th>Stock Splits</th>\n",
              "    </tr>\n",
              "    <tr>\n",
              "      <th>Date</th>\n",
              "      <th></th>\n",
              "      <th></th>\n",
              "      <th></th>\n",
              "      <th></th>\n",
              "      <th></th>\n",
              "      <th></th>\n",
              "      <th></th>\n",
              "    </tr>\n",
              "  </thead>\n",
              "  <tbody>\n",
              "    <tr>\n",
              "      <th>2022-09-19</th>\n",
              "      <td>242.470001</td>\n",
              "      <td>245.139999</td>\n",
              "      <td>240.850006</td>\n",
              "      <td>244.520004</td>\n",
              "      <td>26826900</td>\n",
              "      <td>0.0</td>\n",
              "      <td>0.0</td>\n",
              "    </tr>\n",
              "    <tr>\n",
              "      <th>2022-09-20</th>\n",
              "      <td>242.070007</td>\n",
              "      <td>243.509995</td>\n",
              "      <td>239.639999</td>\n",
              "      <td>242.449997</td>\n",
              "      <td>26660300</td>\n",
              "      <td>0.0</td>\n",
              "      <td>0.0</td>\n",
              "    </tr>\n",
              "    <tr>\n",
              "      <th>2022-09-21</th>\n",
              "      <td>244.270004</td>\n",
              "      <td>247.660004</td>\n",
              "      <td>238.899994</td>\n",
              "      <td>238.949997</td>\n",
              "      <td>28625600</td>\n",
              "      <td>0.0</td>\n",
              "      <td>0.0</td>\n",
              "    </tr>\n",
              "    <tr>\n",
              "      <th>2022-09-22</th>\n",
              "      <td>237.869995</td>\n",
              "      <td>243.860001</td>\n",
              "      <td>237.570007</td>\n",
              "      <td>240.979996</td>\n",
              "      <td>31061200</td>\n",
              "      <td>0.0</td>\n",
              "      <td>0.0</td>\n",
              "    </tr>\n",
              "    <tr>\n",
              "      <th>2022-09-23</th>\n",
              "      <td>239.539993</td>\n",
              "      <td>241.130005</td>\n",
              "      <td>235.199997</td>\n",
              "      <td>237.919998</td>\n",
              "      <td>34137200</td>\n",
              "      <td>0.0</td>\n",
              "      <td>0.0</td>\n",
              "    </tr>\n",
              "  </tbody>\n",
              "</table>\n",
              "</div>\n",
              "      <button class=\"colab-df-convert\" onclick=\"convertToInteractive('df-f9f3b32e-e135-49b6-ad4b-48461b20aa70')\"\n",
              "              title=\"Convert this dataframe to an interactive table.\"\n",
              "              style=\"display:none;\">\n",
              "        \n",
              "  <svg xmlns=\"http://www.w3.org/2000/svg\" height=\"24px\"viewBox=\"0 0 24 24\"\n",
              "       width=\"24px\">\n",
              "    <path d=\"M0 0h24v24H0V0z\" fill=\"none\"/>\n",
              "    <path d=\"M18.56 5.44l.94 2.06.94-2.06 2.06-.94-2.06-.94-.94-2.06-.94 2.06-2.06.94zm-11 1L8.5 8.5l.94-2.06 2.06-.94-2.06-.94L8.5 2.5l-.94 2.06-2.06.94zm10 10l.94 2.06.94-2.06 2.06-.94-2.06-.94-.94-2.06-.94 2.06-2.06.94z\"/><path d=\"M17.41 7.96l-1.37-1.37c-.4-.4-.92-.59-1.43-.59-.52 0-1.04.2-1.43.59L10.3 9.45l-7.72 7.72c-.78.78-.78 2.05 0 2.83L4 21.41c.39.39.9.59 1.41.59.51 0 1.02-.2 1.41-.59l7.78-7.78 2.81-2.81c.8-.78.8-2.07 0-2.86zM5.41 20L4 18.59l7.72-7.72 1.47 1.35L5.41 20z\"/>\n",
              "  </svg>\n",
              "      </button>\n",
              "      \n",
              "  <style>\n",
              "    .colab-df-container {\n",
              "      display:flex;\n",
              "      flex-wrap:wrap;\n",
              "      gap: 12px;\n",
              "    }\n",
              "\n",
              "    .colab-df-convert {\n",
              "      background-color: #E8F0FE;\n",
              "      border: none;\n",
              "      border-radius: 50%;\n",
              "      cursor: pointer;\n",
              "      display: none;\n",
              "      fill: #1967D2;\n",
              "      height: 32px;\n",
              "      padding: 0 0 0 0;\n",
              "      width: 32px;\n",
              "    }\n",
              "\n",
              "    .colab-df-convert:hover {\n",
              "      background-color: #E2EBFA;\n",
              "      box-shadow: 0px 1px 2px rgba(60, 64, 67, 0.3), 0px 1px 3px 1px rgba(60, 64, 67, 0.15);\n",
              "      fill: #174EA6;\n",
              "    }\n",
              "\n",
              "    [theme=dark] .colab-df-convert {\n",
              "      background-color: #3B4455;\n",
              "      fill: #D2E3FC;\n",
              "    }\n",
              "\n",
              "    [theme=dark] .colab-df-convert:hover {\n",
              "      background-color: #434B5C;\n",
              "      box-shadow: 0px 1px 3px 1px rgba(0, 0, 0, 0.15);\n",
              "      filter: drop-shadow(0px 1px 2px rgba(0, 0, 0, 0.3));\n",
              "      fill: #FFFFFF;\n",
              "    }\n",
              "  </style>\n",
              "\n",
              "      <script>\n",
              "        const buttonEl =\n",
              "          document.querySelector('#df-f9f3b32e-e135-49b6-ad4b-48461b20aa70 button.colab-df-convert');\n",
              "        buttonEl.style.display =\n",
              "          google.colab.kernel.accessAllowed ? 'block' : 'none';\n",
              "\n",
              "        async function convertToInteractive(key) {\n",
              "          const element = document.querySelector('#df-f9f3b32e-e135-49b6-ad4b-48461b20aa70');\n",
              "          const dataTable =\n",
              "            await google.colab.kernel.invokeFunction('convertToInteractive',\n",
              "                                                     [key], {});\n",
              "          if (!dataTable) return;\n",
              "\n",
              "          const docLinkHtml = 'Like what you see? Visit the ' +\n",
              "            '<a target=\"_blank\" href=https://colab.research.google.com/notebooks/data_table.ipynb>data table notebook</a>'\n",
              "            + ' to learn more about interactive tables.';\n",
              "          element.innerHTML = '';\n",
              "          dataTable['output_type'] = 'display_data';\n",
              "          await google.colab.output.renderOutput(dataTable, element);\n",
              "          const docLink = document.createElement('div');\n",
              "          docLink.innerHTML = docLinkHtml;\n",
              "          element.appendChild(docLink);\n",
              "        }\n",
              "      </script>\n",
              "    </div>\n",
              "  </div>\n",
              "  "
            ]
          },
          "metadata": {},
          "execution_count": 7
        }
      ]
    },
    {
      "cell_type": "markdown",
      "source": [
        "We can see that we have of data for each day that Microsoft stock was traded. Here are the columns:\n",
        "\n",
        "\n",
        "*   Open: the price the stock opened at the given day\n",
        "*   High: the highest price during the day\n",
        "*   Low: the lowest price during the day\n",
        "*   Close: the closing price on the trading day\n",
        "*   Volume: how many shares were traded\n",
        "\n",
        "Stock doesn't trade every day (there is no trading on weekends and holidays), so some dates are missing."
      ],
      "metadata": {
        "id": "8MBQk_qdzzWF"
      }
    },
    {
      "cell_type": "markdown",
      "source": [
        "To see how the stock price has changed over time, we are going to plot the closing prices over the time."
      ],
      "metadata": {
        "id": "ar67HVxa1Sxy"
      }
    },
    {
      "cell_type": "code",
      "source": [
        "msft.plot.line(y=\"Close\", use_index=True)"
      ],
      "metadata": {
        "colab": {
          "base_uri": "https://localhost:8080/",
          "height": 286
        },
        "id": "FldriMfewNtY",
        "outputId": "76be71e8-a2d3-4440-8f5e-f691f36a6baa"
      },
      "execution_count": 8,
      "outputs": [
        {
          "output_type": "execute_result",
          "data": {
            "text/plain": [
              "<matplotlib.axes._subplots.AxesSubplot at 0x7ffbc24db650>"
            ]
          },
          "metadata": {},
          "execution_count": 8
        },
        {
          "output_type": "display_data",
          "data": {
            "text/plain": [
              "<Figure size 432x288 with 1 Axes>"
            ],
            "image/png": "[encoded data removed]"
          },
          "metadata": {
            "needs_background": "light"
          }
        }
      ]
    },
    {
      "cell_type": "markdown",
      "source": [
        "## Data preprocessing"
      ],
      "metadata": {
        "id": "1-6Ox3R4wrXN"
      }
    },
    {
      "cell_type": "markdown",
      "source": [
        "The goal of this step is to prepare data so we can make predictions. We'll be predicting if the price will go up or down tomorrow based on the data from today. For that we need to identify our target and our predictors.\n",
        "\n",
        "Our target will be if the price will go up or down tomorrow. If the price went up, the target will be `1` and if it went down, the target will be `0`. Since we want to use the data from the day before to predict the trend of the stock price the next day, we have to shift the data from previous days foward on day, so we can use it to predict the actual trend. This ensures that we don't use the data frome the same day to make predictions."
      ],
      "metadata": {
        "id": "QKHbFggN10E6"
      }
    },
    {
      "cell_type": "markdown",
      "source": [
        "To build our training data, we will first ensure we know the actual closing price."
      ],
      "metadata": {
        "id": "5gPrFXWuRdor"
      }
    },
    {
      "cell_type": "code",
      "source": [
        "data = msft[[\"Close\"]]\n",
        "data = data.rename(columns = {'Close':'Actual_Close'})"
      ],
      "metadata": {
        "id": "PSjMNKtgwdUb"
      },
      "execution_count": 9,
      "outputs": []
    },
    {
      "cell_type": "markdown",
      "source": [
        "We then have to setup our target."
      ],
      "metadata": {
        "id": "8b1DWti0RoiG"
      }
    },
    {
      "cell_type": "code",
      "source": [
        "data[\"Target\"] = msft.rolling(2).apply(lambda x: x.iloc[1] > x.iloc[0])[\"Close\"]"
      ],
      "metadata": {
        "id": "SQZDfiZVR1DE"
      },
      "execution_count": 10,
      "outputs": []
    },
    {
      "cell_type": "markdown",
      "source": [
        "Check if the classes are balanced, since it is a useful information for classification task."
      ],
      "metadata": {
        "id": "z1mGe_coQPFD"
      }
    },
    {
      "cell_type": "code",
      "source": [
        "data[\"Target\"].value_counts()"
      ],
      "metadata": {
        "colab": {
          "base_uri": "https://localhost:8080/"
        },
        "id": "4TWUOuFnQRoS",
        "outputId": "d0eec406-8e8b-48c7-e91a-cd7ec5955c45"
      },
      "execution_count": 11,
      "outputs": [
        {
          "output_type": "execute_result",
          "data": {
            "text/plain": [
              "1.0    4650\n",
              "0.0    4558\n",
              "Name: Target, dtype: int64"
            ]
          },
          "metadata": {},
          "execution_count": 11
        }
      ]
    },
    {
      "cell_type": "markdown",
      "source": [
        "We notice that the two classes are balanced."
      ],
      "metadata": {
        "id": "uehgi6pPR_Ct"
      }
    },
    {
      "cell_type": "code",
      "source": [
        "data.head(5)"
      ],
      "metadata": {
        "colab": {
          "base_uri": "https://localhost:8080/",
          "height": 235
        },
        "id": "2atlPtzxxZsx",
        "outputId": "deb04f3f-9482-497e-b5f1-6358e7b183ce"
      },
      "execution_count": 12,
      "outputs": [
        {
          "output_type": "execute_result",
          "data": {
            "text/plain": [
              "            Actual_Close  Target\n",
              "Date                            \n",
              "1986-03-13      0.060980     NaN\n",
              "1986-03-14      0.063158     1.0\n",
              "1986-03-17      0.064247     1.0\n",
              "1986-03-18      0.062613     0.0\n",
              "1986-03-19      0.061524     0.0"
            ],
            "text/html": [
              "\n",
              "  <div id=\"df-d586cd3d-5aa4-42bf-af88-4b2b00cc3bbb\">\n",
              "    <div class=\"colab-df-container\">\n",
              "      <div>\n",
              "<style scoped>\n",
              "    .dataframe tbody tr th:only-of-type {\n",
              "        vertical-align: middle;\n",
              "    }\n",
              "\n",
              "    .dataframe tbody tr th {\n",
              "        vertical-align: top;\n",
              "    }\n",
              "\n",
              "    .dataframe thead th {\n",
              "        text-align: right;\n",
              "    }\n",
              "</style>\n",
              "<table border=\"1\" class=\"dataframe\">\n",
              "  <thead>\n",
              "    <tr style=\"text-align: right;\">\n",
              "      <th></th>\n",
              "      <th>Actual_Close</th>\n",
              "      <th>Target</th>\n",
              "    </tr>\n",
              "    <tr>\n",
              "      <th>Date</th>\n",
              "      <th></th>\n",
              "      <th></th>\n",
              "    </tr>\n",
              "  </thead>\n",
              "  <tbody>\n",
              "    <tr>\n",
              "      <th>1986-03-13</th>\n",
              "      <td>0.060980</td>\n",
              "      <td>NaN</td>\n",
              "    </tr>\n",
              "    <tr>\n",
              "      <th>1986-03-14</th>\n",
              "      <td>0.063158</td>\n",
              "      <td>1.0</td>\n",
              "    </tr>\n",
              "    <tr>\n",
              "      <th>1986-03-17</th>\n",
              "      <td>0.064247</td>\n",
              "      <td>1.0</td>\n",
              "    </tr>\n",
              "    <tr>\n",
              "      <th>1986-03-18</th>\n",
              "      <td>0.062613</td>\n",
              "      <td>0.0</td>\n",
              "    </tr>\n",
              "    <tr>\n",
              "      <th>1986-03-19</th>\n",
              "      <td>0.061524</td>\n",
              "      <td>0.0</td>\n",
              "    </tr>\n",
              "  </tbody>\n",
              "</table>\n",
              "</div>\n",
              "      <button class=\"colab-df-convert\" onclick=\"convertToInteractive('df-d586cd3d-5aa4-42bf-af88-4b2b00cc3bbb')\"\n",
              "              title=\"Convert this dataframe to an interactive table.\"\n",
              "              style=\"display:none;\">\n",
              "        \n",
              "  <svg xmlns=\"http://www.w3.org/2000/svg\" height=\"24px\"viewBox=\"0 0 24 24\"\n",
              "       width=\"24px\">\n",
              "    <path d=\"M0 0h24v24H0V0z\" fill=\"none\"/>\n",
              "    <path d=\"M18.56 5.44l.94 2.06.94-2.06 2.06-.94-2.06-.94-.94-2.06-.94 2.06-2.06.94zm-11 1L8.5 8.5l.94-2.06 2.06-.94-2.06-.94L8.5 2.5l-.94 2.06-2.06.94zm10 10l.94 2.06.94-2.06 2.06-.94-2.06-.94-.94-2.06-.94 2.06-2.06.94z\"/><path d=\"M17.41 7.96l-1.37-1.37c-.4-.4-.92-.59-1.43-.59-.52 0-1.04.2-1.43.59L10.3 9.45l-7.72 7.72c-.78.78-.78 2.05 0 2.83L4 21.41c.39.39.9.59 1.41.59.51 0 1.02-.2 1.41-.59l7.78-7.78 2.81-2.81c.8-.78.8-2.07 0-2.86zM5.41 20L4 18.59l7.72-7.72 1.47 1.35L5.41 20z\"/>\n",
              "  </svg>\n",
              "      </button>\n",
              "      \n",
              "  <style>\n",
              "    .colab-df-container {\n",
              "      display:flex;\n",
              "      flex-wrap:wrap;\n",
              "      gap: 12px;\n",
              "    }\n",
              "\n",
              "    .colab-df-convert {\n",
              "      background-color: #E8F0FE;\n",
              "      border: none;\n",
              "      border-radius: 50%;\n",
              "      cursor: pointer;\n",
              "      display: none;\n",
              "      fill: #1967D2;\n",
              "      height: 32px;\n",
              "      padding: 0 0 0 0;\n",
              "      width: 32px;\n",
              "    }\n",
              "\n",
              "    .colab-df-convert:hover {\n",
              "      background-color: #E2EBFA;\n",
              "      box-shadow: 0px 1px 2px rgba(60, 64, 67, 0.3), 0px 1px 3px 1px rgba(60, 64, 67, 0.15);\n",
              "      fill: #174EA6;\n",
              "    }\n",
              "\n",
              "    [theme=dark] .colab-df-convert {\n",
              "      background-color: #3B4455;\n",
              "      fill: #D2E3FC;\n",
              "    }\n",
              "\n",
              "    [theme=dark] .colab-df-convert:hover {\n",
              "      background-color: #434B5C;\n",
              "      box-shadow: 0px 1px 3px 1px rgba(0, 0, 0, 0.15);\n",
              "      filter: drop-shadow(0px 1px 2px rgba(0, 0, 0, 0.3));\n",
              "      fill: #FFFFFF;\n",
              "    }\n",
              "  </style>\n",
              "\n",
              "      <script>\n",
              "        const buttonEl =\n",
              "          document.querySelector('#df-d586cd3d-5aa4-42bf-af88-4b2b00cc3bbb button.colab-df-convert');\n",
              "        buttonEl.style.display =\n",
              "          google.colab.kernel.accessAllowed ? 'block' : 'none';\n",
              "\n",
              "        async function convertToInteractive(key) {\n",
              "          const element = document.querySelector('#df-d586cd3d-5aa4-42bf-af88-4b2b00cc3bbb');\n",
              "          const dataTable =\n",
              "            await google.colab.kernel.invokeFunction('convertToInteractive',\n",
              "                                                     [key], {});\n",
              "          if (!dataTable) return;\n",
              "\n",
              "          const docLinkHtml = 'Like what you see? Visit the ' +\n",
              "            '<a target=\"_blank\" href=https://colab.research.google.com/notebooks/data_table.ipynb>data table notebook</a>'\n",
              "            + ' to learn more about interactive tables.';\n",
              "          element.innerHTML = '';\n",
              "          dataTable['output_type'] = 'display_data';\n",
              "          await google.colab.output.renderOutput(dataTable, element);\n",
              "          const docLink = document.createElement('div');\n",
              "          docLink.innerHTML = docLinkHtml;\n",
              "          element.appendChild(docLink);\n",
              "        }\n",
              "      </script>\n",
              "    </div>\n",
              "  </div>\n",
              "  "
            ]
          },
          "metadata": {},
          "execution_count": 12
        }
      ]
    },
    {
      "cell_type": "markdown",
      "source": [
        "Since we don't want to predict the current day using the same data, we need to shift our data"
      ],
      "metadata": {
        "id": "eRomJDcy0Ldj"
      }
    },
    {
      "cell_type": "code",
      "source": [
        "msft_prev = msft.copy()"
      ],
      "metadata": {
        "id": "EQilLwsszm6i"
      },
      "execution_count": 13,
      "outputs": []
    },
    {
      "cell_type": "code",
      "source": [
        "msft_prev = msft_prev.shift(1)"
      ],
      "metadata": {
        "id": "gLLebk2J0Zsa"
      },
      "execution_count": 14,
      "outputs": []
    },
    {
      "cell_type": "code",
      "source": [
        "msft_prev.head()"
      ],
      "metadata": {
        "colab": {
          "base_uri": "https://localhost:8080/",
          "height": 235
        },
        "id": "Al8z6pEQ0egU",
        "outputId": "9095d0c7-5ddf-44bf-ae96-8b86ee86bddd"
      },
      "execution_count": 15,
      "outputs": [
        {
          "output_type": "execute_result",
          "data": {
            "text/plain": [
              "                Open      High       Low     Close        Volume  Dividends  \\\n",
              "Date                                                                          \n",
              "1986-03-13       NaN       NaN       NaN       NaN           NaN        NaN   \n",
              "1986-03-14  0.055536  0.063703  0.055536  0.060980  1.031789e+09        0.0   \n",
              "1986-03-17  0.060980  0.064247  0.060980  0.063158  3.081600e+08        0.0   \n",
              "1986-03-18  0.063158  0.064792  0.063158  0.064247  1.331712e+08        0.0   \n",
              "1986-03-19  0.064247  0.064792  0.062069  0.062613  6.776640e+07        0.0   \n",
              "\n",
              "            Stock Splits  \n",
              "Date                      \n",
              "1986-03-13           NaN  \n",
              "1986-03-14           0.0  \n",
              "1986-03-17           0.0  \n",
              "1986-03-18           0.0  \n",
              "1986-03-19           0.0  "
            ],
            "text/html": [
              "\n",
              "  <div id=\"df-a9be99a9-a071-44fe-a618-9c77276e5fa3\">\n",
              "    <div class=\"colab-df-container\">\n",
              "      <div>\n",
              "<style scoped>\n",
              "    .dataframe tbody tr th:only-of-type {\n",
              "        vertical-align: middle;\n",
              "    }\n",
              "\n",
              "    .dataframe tbody tr th {\n",
              "        vertical-align: top;\n",
              "    }\n",
              "\n",
              "    .dataframe thead th {\n",
              "        text-align: right;\n",
              "    }\n",
              "</style>\n",
              "<table border=\"1\" class=\"dataframe\">\n",
              "  <thead>\n",
              "    <tr style=\"text-align: right;\">\n",
              "      <th></th>\n",
              "      <th>Open</th>\n",
              "      <th>High</th>\n",
              "      <th>Low</th>\n",
              "      <th>Close</th>\n",
              "      <th>Volume</th>\n",
              "      <th>Dividends</th>\n",
              "      <th>Stock Splits</th>\n",
              "    </tr>\n",
              "    <tr>\n",
              "      <th>Date</th>\n",
              "      <th></th>\n",
              "      <th></th>\n",
              "      <th></th>\n",
              "      <th></th>\n",
              "      <th></th>\n",
              "      <th></th>\n",
              "      <th></th>\n",
              "    </tr>\n",
              "  </thead>\n",
              "  <tbody>\n",
              "    <tr>\n",
              "      <th>1986-03-13</th>\n",
              "      <td>NaN</td>\n",
              "      <td>NaN</td>\n",
              "      <td>NaN</td>\n",
              "      <td>NaN</td>\n",
              "      <td>NaN</td>\n",
              "      <td>NaN</td>\n",
              "      <td>NaN</td>\n",
              "    </tr>\n",
              "    <tr>\n",
              "      <th>1986-03-14</th>\n",
              "      <td>0.055536</td>\n",
              "      <td>0.063703</td>\n",
              "      <td>0.055536</td>\n",
              "      <td>0.060980</td>\n",
              "      <td>1.031789e+09</td>\n",
              "      <td>0.0</td>\n",
              "      <td>0.0</td>\n",
              "    </tr>\n",
              "    <tr>\n",
              "      <th>1986-03-17</th>\n",
              "      <td>0.060980</td>\n",
              "      <td>0.064247</td>\n",
              "      <td>0.060980</td>\n",
              "      <td>0.063158</td>\n",
              "      <td>3.081600e+08</td>\n",
              "      <td>0.0</td>\n",
              "      <td>0.0</td>\n",
              "    </tr>\n",
              "    <tr>\n",
              "      <th>1986-03-18</th>\n",
              "      <td>0.063158</td>\n",
              "      <td>0.064792</td>\n",
              "      <td>0.063158</td>\n",
              "      <td>0.064247</td>\n",
              "      <td>1.331712e+08</td>\n",
              "      <td>0.0</td>\n",
              "      <td>0.0</td>\n",
              "    </tr>\n",
              "    <tr>\n",
              "      <th>1986-03-19</th>\n",
              "      <td>0.064247</td>\n",
              "      <td>0.064792</td>\n",
              "      <td>0.062069</td>\n",
              "      <td>0.062613</td>\n",
              "      <td>6.776640e+07</td>\n",
              "      <td>0.0</td>\n",
              "      <td>0.0</td>\n",
              "    </tr>\n",
              "  </tbody>\n",
              "</table>\n",
              "</div>\n",
              "      <button class=\"colab-df-convert\" onclick=\"convertToInteractive('df-a9be99a9-a071-44fe-a618-9c77276e5fa3')\"\n",
              "              title=\"Convert this dataframe to an interactive table.\"\n",
              "              style=\"display:none;\">\n",
              "        \n",
              "  <svg xmlns=\"http://www.w3.org/2000/svg\" height=\"24px\"viewBox=\"0 0 24 24\"\n",
              "       width=\"24px\">\n",
              "    <path d=\"M0 0h24v24H0V0z\" fill=\"none\"/>\n",
              "    <path d=\"M18.56 5.44l.94 2.06.94-2.06 2.06-.94-2.06-.94-.94-2.06-.94 2.06-2.06.94zm-11 1L8.5 8.5l.94-2.06 2.06-.94-2.06-.94L8.5 2.5l-.94 2.06-2.06.94zm10 10l.94 2.06.94-2.06 2.06-.94-2.06-.94-.94-2.06-.94 2.06-2.06.94z\"/><path d=\"M17.41 7.96l-1.37-1.37c-.4-.4-.92-.59-1.43-.59-.52 0-1.04.2-1.43.59L10.3 9.45l-7.72 7.72c-.78.78-.78 2.05 0 2.83L4 21.41c.39.39.9.59 1.41.59.51 0 1.02-.2 1.41-.59l7.78-7.78 2.81-2.81c.8-.78.8-2.07 0-2.86zM5.41 20L4 18.59l7.72-7.72 1.47 1.35L5.41 20z\"/>\n",
              "  </svg>\n",
              "      </button>\n",
              "      \n",
              "  <style>\n",
              "    .colab-df-container {\n",
              "      display:flex;\n",
              "      flex-wrap:wrap;\n",
              "      gap: 12px;\n",
              "    }\n",
              "\n",
              "    .colab-df-convert {\n",
              "      background-color: #E8F0FE;\n",
              "      border: none;\n",
              "      border-radius: 50%;\n",
              "      cursor: pointer;\n",
              "      display: none;\n",
              "      fill: #1967D2;\n",
              "      height: 32px;\n",
              "      padding: 0 0 0 0;\n",
              "      width: 32px;\n",
              "    }\n",
              "\n",
              "    .colab-df-convert:hover {\n",
              "      background-color: #E2EBFA;\n",
              "      box-shadow: 0px 1px 2px rgba(60, 64, 67, 0.3), 0px 1px 3px 1px rgba(60, 64, 67, 0.15);\n",
              "      fill: #174EA6;\n",
              "    }\n",
              "\n",
              "    [theme=dark] .colab-df-convert {\n",
              "      background-color: #3B4455;\n",
              "      fill: #D2E3FC;\n",
              "    }\n",
              "\n",
              "    [theme=dark] .colab-df-convert:hover {\n",
              "      background-color: #434B5C;\n",
              "      box-shadow: 0px 1px 3px 1px rgba(0, 0, 0, 0.15);\n",
              "      filter: drop-shadow(0px 1px 2px rgba(0, 0, 0, 0.3));\n",
              "      fill: #FFFFFF;\n",
              "    }\n",
              "  </style>\n",
              "\n",
              "      <script>\n",
              "        const buttonEl =\n",
              "          document.querySelector('#df-a9be99a9-a071-44fe-a618-9c77276e5fa3 button.colab-df-convert');\n",
              "        buttonEl.style.display =\n",
              "          google.colab.kernel.accessAllowed ? 'block' : 'none';\n",
              "\n",
              "        async function convertToInteractive(key) {\n",
              "          const element = document.querySelector('#df-a9be99a9-a071-44fe-a618-9c77276e5fa3');\n",
              "          const dataTable =\n",
              "            await google.colab.kernel.invokeFunction('convertToInteractive',\n",
              "                                                     [key], {});\n",
              "          if (!dataTable) return;\n",
              "\n",
              "          const docLinkHtml = 'Like what you see? Visit the ' +\n",
              "            '<a target=\"_blank\" href=https://colab.research.google.com/notebooks/data_table.ipynb>data table notebook</a>'\n",
              "            + ' to learn more about interactive tables.';\n",
              "          element.innerHTML = '';\n",
              "          dataTable['output_type'] = 'display_data';\n",
              "          await google.colab.output.renderOutput(dataTable, element);\n",
              "          const docLink = document.createElement('div');\n",
              "          docLink.innerHTML = docLinkHtml;\n",
              "          element.appendChild(docLink);\n",
              "        }\n",
              "      </script>\n",
              "    </div>\n",
              "  </div>\n",
              "  "
            ]
          },
          "metadata": {},
          "execution_count": 15
        }
      ]
    },
    {
      "cell_type": "markdown",
      "source": [
        "Define the predictors we will use in predictions and add the corresponding data in our training data."
      ],
      "metadata": {
        "id": "K3B41UykSNOt"
      }
    },
    {
      "cell_type": "code",
      "source": [
        "predictors = [\"Close\", \"High\", \"Low\", \"Open\", \"Volume\"]\n",
        "data = data.join(msft_prev[predictors]).iloc[1:]"
      ],
      "metadata": {
        "id": "-W6cggi90f4b"
      },
      "execution_count": 16,
      "outputs": []
    },
    {
      "cell_type": "code",
      "source": [
        "data.shape"
      ],
      "metadata": {
        "colab": {
          "base_uri": "https://localhost:8080/"
        },
        "id": "2QzeEUwJQiD8",
        "outputId": "cfdd16d0-fa6e-4f23-a5dc-9766bc20fda5"
      },
      "execution_count": 17,
      "outputs": [
        {
          "output_type": "execute_result",
          "data": {
            "text/plain": [
              "(9208, 7)"
            ]
          },
          "metadata": {},
          "execution_count": 17
        }
      ]
    },
    {
      "cell_type": "code",
      "source": [
        "data.head()"
      ],
      "metadata": {
        "colab": {
          "base_uri": "https://localhost:8080/",
          "height": 235
        },
        "id": "SezcM6bx09zO",
        "outputId": "dd7cab01-bd7b-49fa-a391-847cc49a8893"
      },
      "execution_count": 18,
      "outputs": [
        {
          "output_type": "execute_result",
          "data": {
            "text/plain": [
              "            Actual_Close  Target     Close      High       Low      Open  \\\n",
              "Date                                                                       \n",
              "1986-03-14      0.063158     1.0  0.060980  0.063703  0.055536  0.055536   \n",
              "1986-03-17      0.064247     1.0  0.063158  0.064247  0.060980  0.060980   \n",
              "1986-03-18      0.062613     0.0  0.064247  0.064792  0.063158  0.063158   \n",
              "1986-03-19      0.061524     0.0  0.062613  0.064792  0.062069  0.064247   \n",
              "1986-03-20      0.059891     0.0  0.061524  0.063158  0.060980  0.062613   \n",
              "\n",
              "                  Volume  \n",
              "Date                      \n",
              "1986-03-14  1.031789e+09  \n",
              "1986-03-17  3.081600e+08  \n",
              "1986-03-18  1.331712e+08  \n",
              "1986-03-19  6.776640e+07  \n",
              "1986-03-20  4.789440e+07  "
            ],
            "text/html": [
              "\n",
              "  <div id=\"df-6a588b3b-6a61-4577-a727-eb17f92cbc25\">\n",
              "    <div class=\"colab-df-container\">\n",
              "      <div>\n",
              "<style scoped>\n",
              "    .dataframe tbody tr th:only-of-type {\n",
              "        vertical-align: middle;\n",
              "    }\n",
              "\n",
              "    .dataframe tbody tr th {\n",
              "        vertical-align: top;\n",
              "    }\n",
              "\n",
              "    .dataframe thead th {\n",
              "        text-align: right;\n",
              "    }\n",
              "</style>\n",
              "<table border=\"1\" class=\"dataframe\">\n",
              "  <thead>\n",
              "    <tr style=\"text-align: right;\">\n",
              "      <th></th>\n",
              "      <th>Actual_Close</th>\n",
              "      <th>Target</th>\n",
              "      <th>Close</th>\n",
              "      <th>High</th>\n",
              "      <th>Low</th>\n",
              "      <th>Open</th>\n",
              "      <th>Volume</th>\n",
              "    </tr>\n",
              "    <tr>\n",
              "      <th>Date</th>\n",
              "      <th></th>\n",
              "      <th></th>\n",
              "      <th></th>\n",
              "      <th></th>\n",
              "      <th></th>\n",
              "      <th></th>\n",
              "      <th></th>\n",
              "    </tr>\n",
              "  </thead>\n",
              "  <tbody>\n",
              "    <tr>\n",
              "      <th>1986-03-14</th>\n",
              "      <td>0.063158</td>\n",
              "      <td>1.0</td>\n",
              "      <td>0.060980</td>\n",
              "      <td>0.063703</td>\n",
              "      <td>0.055536</td>\n",
              "      <td>0.055536</td>\n",
              "      <td>1.031789e+09</td>\n",
              "    </tr>\n",
              "    <tr>\n",
              "      <th>1986-03-17</th>\n",
              "      <td>0.064247</td>\n",
              "      <td>1.0</td>\n",
              "      <td>0.063158</td>\n",
              "      <td>0.064247</td>\n",
              "      <td>0.060980</td>\n",
              "      <td>0.060980</td>\n",
              "      <td>3.081600e+08</td>\n",
              "    </tr>\n",
              "    <tr>\n",
              "      <th>1986-03-18</th>\n",
              "      <td>0.062613</td>\n",
              "      <td>0.0</td>\n",
              "      <td>0.064247</td>\n",
              "      <td>0.064792</td>\n",
              "      <td>0.063158</td>\n",
              "      <td>0.063158</td>\n",
              "      <td>1.331712e+08</td>\n",
              "    </tr>\n",
              "    <tr>\n",
              "      <th>1986-03-19</th>\n",
              "      <td>0.061524</td>\n",
              "      <td>0.0</td>\n",
              "      <td>0.062613</td>\n",
              "      <td>0.064792</td>\n",
              "      <td>0.062069</td>\n",
              "      <td>0.064247</td>\n",
              "      <td>6.776640e+07</td>\n",
              "    </tr>\n",
              "    <tr>\n",
              "      <th>1986-03-20</th>\n",
              "      <td>0.059891</td>\n",
              "      <td>0.0</td>\n",
              "      <td>0.061524</td>\n",
              "      <td>0.063158</td>\n",
              "      <td>0.060980</td>\n",
              "      <td>0.062613</td>\n",
              "      <td>4.789440e+07</td>\n",
              "    </tr>\n",
              "  </tbody>\n",
              "</table>\n",
              "</div>\n",
              "      <button class=\"colab-df-convert\" onclick=\"convertToInteractive('df-6a588b3b-6a61-4577-a727-eb17f92cbc25')\"\n",
              "              title=\"Convert this dataframe to an interactive table.\"\n",
              "              style=\"display:none;\">\n",
              "        \n",
              "  <svg xmlns=\"http://www.w3.org/2000/svg\" height=\"24px\"viewBox=\"0 0 24 24\"\n",
              "       width=\"24px\">\n",
              "    <path d=\"M0 0h24v24H0V0z\" fill=\"none\"/>\n",
              "    <path d=\"M18.56 5.44l.94 2.06.94-2.06 2.06-.94-2.06-.94-.94-2.06-.94 2.06-2.06.94zm-11 1L8.5 8.5l.94-2.06 2.06-.94-2.06-.94L8.5 2.5l-.94 2.06-2.06.94zm10 10l.94 2.06.94-2.06 2.06-.94-2.06-.94-.94-2.06-.94 2.06-2.06.94z\"/><path d=\"M17.41 7.96l-1.37-1.37c-.4-.4-.92-.59-1.43-.59-.52 0-1.04.2-1.43.59L10.3 9.45l-7.72 7.72c-.78.78-.78 2.05 0 2.83L4 21.41c.39.39.9.59 1.41.59.51 0 1.02-.2 1.41-.59l7.78-7.78 2.81-2.81c.8-.78.8-2.07 0-2.86zM5.41 20L4 18.59l7.72-7.72 1.47 1.35L5.41 20z\"/>\n",
              "  </svg>\n",
              "      </button>\n",
              "      \n",
              "  <style>\n",
              "    .colab-df-container {\n",
              "      display:flex;\n",
              "      flex-wrap:wrap;\n",
              "      gap: 12px;\n",
              "    }\n",
              "\n",
              "    .colab-df-convert {\n",
              "      background-color: #E8F0FE;\n",
              "      border: none;\n",
              "      border-radius: 50%;\n",
              "      cursor: pointer;\n",
              "      display: none;\n",
              "      fill: #1967D2;\n",
              "      height: 32px;\n",
              "      padding: 0 0 0 0;\n",
              "      width: 32px;\n",
              "    }\n",
              "\n",
              "    .colab-df-convert:hover {\n",
              "      background-color: #E2EBFA;\n",
              "      box-shadow: 0px 1px 2px rgba(60, 64, 67, 0.3), 0px 1px 3px 1px rgba(60, 64, 67, 0.15);\n",
              "      fill: #174EA6;\n",
              "    }\n",
              "\n",
              "    [theme=dark] .colab-df-convert {\n",
              "      background-color: #3B4455;\n",
              "      fill: #D2E3FC;\n",
              "    }\n",
              "\n",
              "    [theme=dark] .colab-df-convert:hover {\n",
              "      background-color: #434B5C;\n",
              "      box-shadow: 0px 1px 3px 1px rgba(0, 0, 0, 0.15);\n",
              "      filter: drop-shadow(0px 1px 2px rgba(0, 0, 0, 0.3));\n",
              "      fill: #FFFFFF;\n",
              "    }\n",
              "  </style>\n",
              "\n",
              "      <script>\n",
              "        const buttonEl =\n",
              "          document.querySelector('#df-6a588b3b-6a61-4577-a727-eb17f92cbc25 button.colab-df-convert');\n",
              "        buttonEl.style.display =\n",
              "          google.colab.kernel.accessAllowed ? 'block' : 'none';\n",
              "\n",
              "        async function convertToInteractive(key) {\n",
              "          const element = document.querySelector('#df-6a588b3b-6a61-4577-a727-eb17f92cbc25');\n",
              "          const dataTable =\n",
              "            await google.colab.kernel.invokeFunction('convertToInteractive',\n",
              "                                                     [key], {});\n",
              "          if (!dataTable) return;\n",
              "\n",
              "          const docLinkHtml = 'Like what you see? Visit the ' +\n",
              "            '<a target=\"_blank\" href=https://colab.research.google.com/notebooks/data_table.ipynb>data table notebook</a>'\n",
              "            + ' to learn more about interactive tables.';\n",
              "          element.innerHTML = '';\n",
              "          dataTable['output_type'] = 'display_data';\n",
              "          await google.colab.output.renderOutput(dataTable, element);\n",
              "          const docLink = document.createElement('div');\n",
              "          docLink.innerHTML = docLinkHtml;\n",
              "          element.appendChild(docLink);\n",
              "        }\n",
              "      </script>\n",
              "    </div>\n",
              "  </div>\n",
              "  "
            ]
          },
          "metadata": {},
          "execution_count": 18
        }
      ]
    },
    {
      "cell_type": "markdown",
      "source": [
        "## Build the Machine Learning model"
      ],
      "metadata": {
        "id": "x5rlQlre3Vao"
      }
    },
    {
      "cell_type": "markdown",
      "source": [
        "Now we are going to create a Machine Learning model to see how accurately we can predict the stock price trend.\n",
        "\n",
        "Since we are dealing with time series data, we can't just use cross-validation logic in our training process. This will result in using future data to make predictions on the past prices, What will lead to a model well performing during the training, but unusable in the real world on new data.\n",
        "\n",
        "Instead, we'll spleat the data sequentially. We'll start off by predicting just the last 100 rows using the other rows.\n",
        "\n",
        "As the baseline model we'll use a random forest classifier. It is a good 'default' model, since it can pick up nonlinear relationships in the data, and somewhat robust to overfitting."
      ],
      "metadata": {
        "id": "034U9UwjSf6c"
      }
    },
    {
      "cell_type": "code",
      "source": [
        "model = RandomForestClassifier(n_estimators=100, min_samples_split=200, random_state=1)\n",
        "\n",
        "train = data.iloc[:-100]\n",
        "test = data.iloc[-100:]\n",
        "\n",
        "model.fit(train[predictors], train[\"Target\"])"
      ],
      "metadata": {
        "id": "wPIkNSQc0-xi",
        "colab": {
          "base_uri": "https://localhost:8080/"
        },
        "outputId": "cf38357e-fc40-4339-8172-565eba487d13"
      },
      "execution_count": 19,
      "outputs": [
        {
          "output_type": "execute_result",
          "data": {
            "text/plain": [
              "RandomForestClassifier(min_samples_split=200, random_state=1)"
            ]
          },
          "metadata": {},
          "execution_count": 19
        }
      ]
    },
    {
      "cell_type": "markdown",
      "source": [
        "We will now check the accuracy of the model using the `precision` to measure the error. We will do this by using the `precision_score` function from scikit-learn."
      ],
      "metadata": {
        "id": "67GRDM1JU6ll"
      }
    },
    {
      "cell_type": "code",
      "source": [
        "preds = model.predict(test[predictors])"
      ],
      "metadata": {
        "colab": {
          "base_uri": "https://localhost:8080/"
        },
        "id": "TAoLesS634FB",
        "outputId": "f3cb3f81-86a8-405f-9e57-21e767ece0a0"
      },
      "execution_count": 20,
      "outputs": [
        {
          "output_type": "execute_result",
          "data": {
            "text/plain": [
              "array([1., 1., 1., 1., 1., 1., 1., 1., 1., 1., 1., 1., 1., 1., 1., 1., 1.,\n",
              "       1., 1., 1., 1., 1., 1., 1., 1., 1., 1., 1., 1., 1., 1., 1., 1., 1.,\n",
              "       1., 1., 1., 1., 1., 1., 1., 1., 1., 1., 1., 1., 1., 1., 1., 0., 1.,\n",
              "       1., 1., 1., 1., 1., 1., 1., 1., 1., 1., 1., 1., 1., 1., 1., 1., 1.,\n",
              "       1., 0., 0., 0., 0., 0., 0., 0., 0., 1., 1., 1., 1., 1., 1., 1., 1.,\n",
              "       1., 1., 1., 1., 1., 1., 1., 1., 1., 0., 1., 1., 1., 1., 0.])"
            ]
          },
          "metadata": {},
          "execution_count": 20
        }
      ]
    },
    {
      "cell_type": "code",
      "source": [
        "preds = pd.Series(preds, index=test.index)"
      ],
      "metadata": {
        "id": "j_APGMzG4Xdc"
      },
      "execution_count": 21,
      "outputs": []
    },
    {
      "cell_type": "code",
      "source": [
        "precision_score(test[\"Target\"], preds)"
      ],
      "metadata": {
        "colab": {
          "base_uri": "https://localhost:8080/"
        },
        "id": "VlAqU_xO5Okj",
        "outputId": "8a395ab8-3e03-414a-f32b-4091940034d7"
      },
      "execution_count": 23,
      "outputs": [
        {
          "output_type": "execute_result",
          "data": {
            "text/plain": [
              "0.4606741573033708"
            ]
          },
          "metadata": {},
          "execution_count": 23
        }
      ]
    },
    {
      "cell_type": "markdown",
      "source": [
        "We notice that our model actually has a precision of `46.06%`. We can take a deeper look at the individual predictions and the actuals, to see where the model is off."
      ],
      "metadata": {
        "id": "tSSMLl6iWTpX"
      }
    },
    {
      "cell_type": "code",
      "source": [
        "combined = pd.concat({\"Target\": test[\"Target\"], \"Predictions\":preds}, axis=1)"
      ],
      "metadata": {
        "id": "MeLrIMsx5cJ5"
      },
      "execution_count": 24,
      "outputs": []
    },
    {
      "cell_type": "code",
      "source": [
        "combined.plot()"
      ],
      "metadata": {
        "colab": {
          "base_uri": "https://localhost:8080/",
          "height": 294
        },
        "id": "GtHgOPjk6BwQ",
        "outputId": "2ba6a193-63e3-44bd-e75f-da0f3d2e7644"
      },
      "execution_count": 26,
      "outputs": [
        {
          "output_type": "execute_result",
          "data": {
            "text/plain": [
              "<matplotlib.axes._subplots.AxesSubplot at 0x7ffbc1d39b90>"
            ]
          },
          "metadata": {},
          "execution_count": 26
        },
        {
          "output_type": "display_data",
          "data": {
            "text/plain": [
              "<Figure size 432x288 with 1 Axes>"
            ],
            "image/png": "[encoded data removed]"
          },
          "metadata": {
            "needs_background": "light"
          }
        }
      ]
    },
    {
      "cell_type": "markdown",
      "source": [
        "Check the order of classes in predict_proba()."
      ],
      "metadata": {
        "id": "KJ0CuKUsQ63l"
      }
    },
    {
      "cell_type": "code",
      "source": [
        "model.classes_"
      ],
      "metadata": {
        "colab": {
          "base_uri": "https://localhost:8080/"
        },
        "id": "p3CM7c94Q3lG",
        "outputId": "35bbd2d8-4383-4c6c-fc55-4e5778964e98"
      },
      "execution_count": 27,
      "outputs": [
        {
          "output_type": "execute_result",
          "data": {
            "text/plain": [
              "array([0., 1.])"
            ]
          },
          "metadata": {},
          "execution_count": 27
        }
      ]
    },
    {
      "cell_type": "markdown",
      "source": [
        "### Back testing"
      ],
      "metadata": {
        "id": "qi_Eb4rUOa1x"
      }
    },
    {
      "cell_type": "markdown",
      "source": [
        "Actually we are assessing the model performance only on the 100 last data points, what is surely the best way of measuring the error of the model. To enhance the way of doing it, we will implement a back testing logic. Back testinng ensures that we only use data from before day that we're predicting. \n",
        "\n",
        "In the backtesting function we will:\n",
        "\n",
        "\n",
        "*   Split the training and test data\n",
        "*   Train a model\n",
        "*   Make predictions on the test data using `predict_proba`. This is because we want to really optimize for true positives. By default, the threshold for splitting 0/1 is `0.5`, but we can set it to different value to tweak the precision. If we set it too high, we'll make fewer trades, but will have a lower potential for losses.\n",
        "\n"
      ],
      "metadata": {
        "id": "IJVvMS59Xtq1"
      }
    },
    {
      "cell_type": "code",
      "source": [
        "def backtest(data, model, predictors, START=1000, STEP = 750):\n",
        "  predictions = []\n",
        "\n",
        "  for i in range(START, data.shape[0], STEP):\n",
        "    train = data.iloc[:i]\n",
        "    test = data.iloc[i:(i+STEP)]  \n",
        "    \n",
        "    model.fit(train[predictors], train[\"Target\"])\n",
        "\n",
        "    preds = model.predict_proba(test[predictors])[:, 1]\n",
        "    preds = pd.Series(preds, index=test.index)\n",
        "    preds[preds > .6] = 1\n",
        "    preds[preds <= .6] = 0\n",
        "\n",
        "    combined = pd.concat({\"Target\": test[\"Target\"], \"Predictions\": preds}, axis=1)\n",
        "    predictions.append(combined)\n",
        "\n",
        "  predictions = pd.concat(predictions)\n",
        "  return predictions"
      ],
      "metadata": {
        "id": "hfQgfsqx6IAO"
      },
      "execution_count": 28,
      "outputs": []
    },
    {
      "cell_type": "code",
      "source": [
        "model = RandomForestClassifier(n_estimators=100, min_samples_split=200, random_state=1)\n",
        "predictions = backtest(data, model, predictors)\n",
        "predictions.value_counts()"
      ],
      "metadata": {
        "colab": {
          "base_uri": "https://localhost:8080/"
        },
        "id": "sMcXVwBKSydm",
        "outputId": "1f59b311-7671-45c6-bd6b-d7137b23a1a1"
      },
      "execution_count": 29,
      "outputs": [
        {
          "output_type": "execute_result",
          "data": {
            "text/plain": [
              "Target  Predictions\n",
              "1.0     0.0            3810\n",
              "0.0     0.0            3711\n",
              "1.0     1.0             345\n",
              "0.0     1.0             342\n",
              "dtype: int64"
            ]
          },
          "metadata": {},
          "execution_count": 29
        }
      ]
    },
    {
      "cell_type": "code",
      "source": [
        "precision_score(predictions[\"Target\"], predictions[\"Predictions\"])"
      ],
      "metadata": {
        "colab": {
          "base_uri": "https://localhost:8080/"
        },
        "id": "5tz1DRuxS5Si",
        "outputId": "8f2a3349-e85c-4a65-df19-9196252e20ab"
      },
      "execution_count": 30,
      "outputs": [
        {
          "output_type": "execute_result",
          "data": {
            "text/plain": [
              "0.5021834061135371"
            ]
          },
          "metadata": {},
          "execution_count": 30
        }
      ]
    },
    {
      "cell_type": "markdown",
      "source": [
        "## Improving the accuracy of the model"
      ],
      "metadata": {
        "id": "TyVd7zHATKVf"
      }
    },
    {
      "cell_type": "markdown",
      "source": [
        "Actually, the model isn't very accurate. For this model to be useful, we have to get it to predict more accurately.\n",
        "\n",
        "We will try to add some moremmmm predictors to see if we can improve accuracy.\n",
        "\n",
        "We'll add in some rolling means, so the model can evaluate the current price against recent prices. We'll also look at the ratios between different indicators."
      ],
      "metadata": {
        "id": "43jXKJvwZEhv"
      }
    },
    {
      "cell_type": "code",
      "source": [
        "weekly_mean = data.rolling(7).mean()\n",
        "quaterly_mean = data.rolling(90).mean()\n",
        "annual_mean = data.rolling(365).mean()\n",
        "\n",
        "\n",
        "weekly_trend = data.shift(1).rolling(7).mean()[\"Target\"]"
      ],
      "metadata": {
        "id": "1s6qDt0STU9c"
      },
      "execution_count": 31,
      "outputs": []
    },
    {
      "cell_type": "code",
      "source": [
        "data[\"weekly_mean\"] = weekly_mean[\"Close\"] / data[\"Close\"]\n",
        "data[\"quaterly_mean\"] = quaterly_mean[\"Close\"] / data[\"Close\"]\n",
        "data[\"annual_mean\"] = annual_mean[\"Close\"] / data[\"Close\"]\n",
        "\n",
        "data[\"annual_weekly_mean\"] = data[\"annual_mean\"] / data[\"weekly_mean\"]\n",
        "data[\"annual_quaterly_mean\"] = data[\"annual_mean\"] / data[\"quaterly_mean\"]\n",
        "\n",
        "data[\"open_close_ratio\"] = data[\"Open\"] / data[\"Close\"]\n",
        "data[\"high_close_ratio\"] = data[\"High\"] / data[\"Close\"]\n",
        "data[\"low_close_ratio\"] = data[\"Low\"] / data[\"Close\"]"
      ],
      "metadata": {
        "id": "y-fqbgEJUjzq"
      },
      "execution_count": 32,
      "outputs": []
    },
    {
      "cell_type": "code",
      "source": [
        "full_predictors = predictors + [\"weekly_mean\", \"quaterly_mean\", \"annual_mean\", \"annual_weekly_mean\", \"annual_quaterly_mean\", \"open_close_ratio\", \"high_close_ratio\", \"low_close_ratio\"]"
      ],
      "metadata": {
        "id": "hKK0x8ERUlnm"
      },
      "execution_count": 33,
      "outputs": []
    },
    {
      "cell_type": "code",
      "source": [
        "predictions = backtest(data.iloc[365:], model, full_predictors)\n",
        "predictions.value_counts()"
      ],
      "metadata": {
        "colab": {
          "base_uri": "https://localhost:8080/"
        },
        "id": "VzeTu0QxW2ZC",
        "outputId": "a410a1e0-9b2a-481e-ed74-7792d7304421"
      },
      "execution_count": 34,
      "outputs": [
        {
          "output_type": "execute_result",
          "data": {
            "text/plain": [
              "Target  Predictions\n",
              "1.0     0.0            3756\n",
              "0.0     0.0            3743\n",
              "1.0     1.0             207\n",
              "0.0     1.0             137\n",
              "dtype: int64"
            ]
          },
          "metadata": {},
          "execution_count": 34
        }
      ]
    },
    {
      "cell_type": "code",
      "source": [
        "precision_score(predictions[\"Target\"], predictions[\"Predictions\"])"
      ],
      "metadata": {
        "colab": {
          "base_uri": "https://localhost:8080/"
        },
        "id": "YkXcPCo3W_Gt",
        "outputId": "561cf404-e1b8-41db-c1d9-4f7b88e23d3d"
      },
      "execution_count": 35,
      "outputs": [
        {
          "output_type": "execute_result",
          "data": {
            "text/plain": [
              "0.6017441860465116"
            ]
          },
          "metadata": {},
          "execution_count": 35
        }
      ]
    },
    {
      "cell_type": "markdown",
      "source": [
        "Show how many trades we would make."
      ],
      "metadata": {
        "id": "GXir78lpZoGH"
      }
    },
    {
      "cell_type": "code",
      "source": [
        "predictions.value_counts()"
      ],
      "metadata": {
        "colab": {
          "base_uri": "https://localhost:8080/"
        },
        "id": "jIJ5SobaXbMv",
        "outputId": "e870fd21-2fe8-487b-ee07-c84050df6aa3"
      },
      "execution_count": 37,
      "outputs": [
        {
          "output_type": "execute_result",
          "data": {
            "text/plain": [
              "Target  Predictions\n",
              "1.0     0.0            3756\n",
              "0.0     0.0            3743\n",
              "1.0     1.0             207\n",
              "0.0     1.0             137\n",
              "dtype: int64"
            ]
          },
          "metadata": {},
          "execution_count": 37
        }
      ]
    },
    {
      "cell_type": "markdown",
      "source": [
        "Look at the individual prediction and the actual."
      ],
      "metadata": {
        "id": "QGiR0egmaVGD"
      }
    },
    {
      "cell_type": "code",
      "source": [
        "predictions.iloc[-100:].plot()"
      ],
      "metadata": {
        "colab": {
          "base_uri": "https://localhost:8080/",
          "height": 294
        },
        "id": "ZYmWYVVTZqbw",
        "outputId": "51585d4b-5bb4-42e9-ec82-8df6665dc72d"
      },
      "execution_count": 38,
      "outputs": [
        {
          "output_type": "execute_result",
          "data": {
            "text/plain": [
              "<matplotlib.axes._subplots.AxesSubplot at 0x7ffbc1c84210>"
            ]
          },
          "metadata": {},
          "execution_count": 38
        },
        {
          "output_type": "display_data",
          "data": {
            "text/plain": [
              "<Figure size 432x288 with 1 Axes>"
            ],
            "image/png": "[encoded data removed]"
          },
          "metadata": {
            "needs_background": "light"
          }
        }
      ]
    },
    {
      "cell_type": "markdown",
      "source": [
        "## Perspectives of improvement"
      ],
      "metadata": {
        "id": "x1gC0pLAacHe"
      }
    },
    {
      "cell_type": "markdown",
      "source": [
        "+ Improve the technique\n",
        "\n",
        "  * Calculate how much money you'd make if you traded with this algorithm\n",
        "\n",
        "+ Improve the algorithm\n",
        "\n",
        "  * Run with a reduced step size! This will take longer, but increase accuracy\n",
        "  *Try discarding older data (only keeping data in a certain window)\n",
        "  * Try a different machine learning algorithm\n",
        "  * Tweak random forest parameters, or the prediction threshold\n",
        "\n",
        "+ Add in more predictors\n",
        "\n",
        "  * Account for activity post-close and pre-open\n",
        "\n",
        "    + Early trading\n",
        "    + Trading on other exchanges that open before the NYSE (to see what the global sentiment is)\n",
        "\n",
        "  * Economic indicators\n",
        "  \n",
        "    + Interest rates\n",
        "    + Other important economic news\n",
        "\n",
        "  * Key dates\n",
        "\n",
        "    + Dividends\n",
        "    + External factors like elections\n",
        "\n",
        "  * Company milestones\n",
        "\n",
        "    + Earnings calls\n",
        "    + Analyst ratings\n",
        "    + Major announcements\n",
        "\n",
        "  * Prices of related stocks\n",
        "\n",
        "    + Other companies in the same sector\n",
        "    + Key partners, customers, etc."
      ],
      "metadata": {
        "id": "LZ1KczEjakzc"
      }
    },
    {
      "cell_type": "code",
      "source": [],
      "metadata": {
        "id": "tk9T6m9xbq1J"
      },
      "execution_count": null,
      "outputs": []
    }
  ]
}